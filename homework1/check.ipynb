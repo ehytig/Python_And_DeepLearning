{
 "metadata": {
  "language_info": {
   "codemirror_mode": {
    "name": "ipython",
    "version": 3
   },
   "file_extension": ".py",
   "mimetype": "text/x-python",
   "name": "python",
   "nbconvert_exporter": "python",
   "pygments_lexer": "ipython3",
   "version": "3.8.8"
  },
  "orig_nbformat": 2,
  "kernelspec": {
   "name": "python3",
   "display_name": "Python 3.8.8 64-bit ('Pythoncourse': conda)",
   "metadata": {
    "interpreter": {
     "hash": "aa0407596898c75f1d36b7d6ac44ee6a99c5508f745835d44829c4e8e15322c1"
    }
   }
  }
 },
 "nbformat": 4,
 "nbformat_minor": 2,
 "cells": [
  {
   "cell_type": "code",
   "execution_count": 44,
   "metadata": {},
   "outputs": [],
   "source": [
    "import requests\n",
    "from bs4 import BeautifulSoup\n",
    "from urllib.parse import urlparse\n",
    "import re\n",
    "\n",
    "\n",
    "def download(name, link):\n",
    "    # download file from link, and name it with the name variable\n",
    "    r = requests.get(link) \n",
    "    with open(name,'wb') as f:\n",
    "        f.write(r.content)\n",
    "\n",
    "def get_url(soup, filter, web_url):\n",
    "    url = urlparse(web_url)\n",
    "    tag = soup.find_all(\"a\", href = filter(url.netloc))\n",
    "    link = { kk['href'] for kk in tag}\n",
    "    if check_link(link) == 1:\n",
    "        url._replace(path = link.pop())\n",
    "        return url.geturl()\n",
    "    else:\n",
    "        raise Exception(\" Using {0}, We find {1} links from {2} \\n\".format(filter.__name__, len(link), url.geturl()))\n",
    "\n",
    "def check_link(link):\n",
    "    if len(link) == 1:\n",
    "        return 1\n",
    "    elif len(link) == 0:\n",
    "        return 0\n",
    "    else:\n",
    "        return -1\n",
    "\n",
    "def pdflink_filter(netloc):\n",
    "    # for different website, we have different filters \n",
    "    # These filters are given by regular expression, \n",
    "    # the link match these regular expressions is the one we want to get \n",
    "\n",
    "    if netloc == 'science.sciencemag.org':\n",
    "        regex = re.compile(\"full\\.pdf\")\n",
    "    elif netloc == 'www.nature.com':\n",
    "        regex = re.compile(\"^/articles/[a-zA-Z0-9]*-[a-zA-Z0-9]*-[a-zA-Z0-9]*-[a-zA-Z0-9]*.pdf\")\n",
    "    else:\n",
    "        regex = re.compile(\"\\.pdf\")\n",
    "\n",
    "    return regex\n",
    "\n",
    "def rislink_filter(netloc):\n",
    "    # for different website, we have different filters \n",
    "    # These filters are given by regular expression, \n",
    "    # the link match these regular expressions is the one we want to get \n",
    "    \n",
    "    if netloc == 'science.sciencemag.org':\n",
    "        regex = re.compile(\"ris$\")\n",
    "    elif netloc == 'www.nature.com':\n",
    "        regex = re.compile(\"citation\\.ris$\")\n",
    "    else:\n",
    "        regex = re.compile(\"ris\")\n",
    "    return regex\n",
    "    "
   ]
  },
  {
   "cell_type": "code",
   "execution_count": 22,
   "metadata": {},
   "outputs": [],
   "source": [
    "web_url = \"https://www.nature.com/articles/s41586-021-03359-9\"\n",
    "url = urlparse(web_url)"
   ]
  },
  {
   "cell_type": "code",
   "execution_count": 3,
   "metadata": {},
   "outputs": [
    {
     "output_type": "stream",
     "name": "stdout",
     "text": [
      "200\n"
     ]
    }
   ],
   "source": [
    "r = requests.get(web_url)\n",
    "print(r.status_code)\n",
    "soup = BeautifulSoup(r.content,features=\"html.parser\")"
   ]
  },
  {
   "cell_type": "code",
   "execution_count": 23,
   "metadata": {},
   "outputs": [
    {
     "output_type": "error",
     "ename": "Exception",
     "evalue": " Using pdflink_filter, We find 2 links from https://www.nature.com/articles/s41586-021-03359-9 \n",
     "traceback": [
      "\u001b[1;31m---------------------------------------------------------------------------\u001b[0m",
      "\u001b[1;31mException\u001b[0m                                 Traceback (most recent call last)",
      "\u001b[1;32m<ipython-input-23-e7a3d5fa81c0>\u001b[0m in \u001b[0;36m<module>\u001b[1;34m\u001b[0m\n\u001b[1;32m----> 1\u001b[1;33m \u001b[0mget_url\u001b[0m\u001b[1;33m(\u001b[0m\u001b[0msoup\u001b[0m\u001b[1;33m,\u001b[0m \u001b[0mpdflink_filter\u001b[0m\u001b[1;33m,\u001b[0m \u001b[0murl\u001b[0m\u001b[1;33m)\u001b[0m\u001b[1;33m\u001b[0m\u001b[1;33m\u001b[0m\u001b[0m\n\u001b[0m",
      "\u001b[1;32m<ipython-input-21-e98a33274104>\u001b[0m in \u001b[0;36mget_url\u001b[1;34m(soup, filter, url)\u001b[0m\n\u001b[0;32m     17\u001b[0m         \u001b[1;32mreturn\u001b[0m \u001b[0mlink\u001b[0m\u001b[1;33m\u001b[0m\u001b[1;33m\u001b[0m\u001b[0m\n\u001b[0;32m     18\u001b[0m     \u001b[1;32melse\u001b[0m\u001b[1;33m:\u001b[0m\u001b[1;33m\u001b[0m\u001b[1;33m\u001b[0m\u001b[0m\n\u001b[1;32m---> 19\u001b[1;33m         \u001b[1;32mraise\u001b[0m \u001b[0mException\u001b[0m\u001b[1;33m(\u001b[0m\u001b[1;34m\" Using {0}, We find {1} links from {2} \\n\"\u001b[0m\u001b[1;33m.\u001b[0m\u001b[0mformat\u001b[0m\u001b[1;33m(\u001b[0m\u001b[0mfilter\u001b[0m\u001b[1;33m.\u001b[0m\u001b[0m__name__\u001b[0m\u001b[1;33m,\u001b[0m \u001b[0mlen\u001b[0m\u001b[1;33m(\u001b[0m\u001b[0mlink\u001b[0m\u001b[1;33m)\u001b[0m\u001b[1;33m,\u001b[0m \u001b[0murl\u001b[0m\u001b[1;33m.\u001b[0m\u001b[0mgeturl\u001b[0m\u001b[1;33m(\u001b[0m\u001b[1;33m)\u001b[0m\u001b[1;33m)\u001b[0m\u001b[1;33m)\u001b[0m\u001b[1;33m\u001b[0m\u001b[1;33m\u001b[0m\u001b[0m\n\u001b[0m\u001b[0;32m     20\u001b[0m \u001b[1;33m\u001b[0m\u001b[0m\n\u001b[0;32m     21\u001b[0m \u001b[1;32mdef\u001b[0m \u001b[0mcheck_link\u001b[0m\u001b[1;33m(\u001b[0m\u001b[0mlink\u001b[0m\u001b[1;33m)\u001b[0m\u001b[1;33m:\u001b[0m\u001b[1;33m\u001b[0m\u001b[1;33m\u001b[0m\u001b[0m\n",
      "\u001b[1;31mException\u001b[0m:  Using pdflink_filter, We find 2 links from https://www.nature.com/articles/s41586-021-03359-9 \n"
     ]
    }
   ],
   "source": [
    "get_url(soup, pdflink_filter, url)"
   ]
  },
  {
   "cell_type": "code",
   "execution_count": 41,
   "metadata": {},
   "outputs": [
    {
     "output_type": "execute_result",
     "data": {
      "text/plain": [
       "{'/articles/s41586-021-03359-9-citation.ris',\n",
       " '/articles/s41586-021-03359-9-references.ris'}"
      ]
     },
     "metadata": {},
     "execution_count": 41
    }
   ],
   "source": [
    "tag = soup.find_all(\"a\",href = re.compile(\"^/articles/[a-zA-Z0-9]*-[a-zA-Z0-9]*-[a-zA-Z0-9]*-[a-zA-Z0-9]*-\"))\n",
    "link = { kk['href'] for kk in tag}\n",
    "link"
   ]
  },
  {
   "cell_type": "code",
   "execution_count": 13,
   "metadata": {},
   "outputs": [
    {
     "output_type": "execute_result",
     "data": {
      "text/plain": [
       "[]"
      ]
     },
     "metadata": {},
     "execution_count": 13
    }
   ],
   "source": [
    "tag"
   ]
  },
  {
   "cell_type": "code",
   "execution_count": 9,
   "metadata": {},
   "outputs": [
    {
     "output_type": "execute_result",
     "data": {
      "text/plain": [
       "re.compile(r'\\.pdf', re.UNICODE)"
      ]
     },
     "metadata": {},
     "execution_count": 9
    }
   ],
   "source": [
    "pdflink_filter(url.netloc)"
   ]
  },
  {
   "cell_type": "code",
   "execution_count": 42,
   "metadata": {},
   "outputs": [],
   "source": [
    "download(\"1.ris\",\"https://www.nature.com/articles/s41586-021-03359-9-citation.ris\")"
   ]
  },
  {
   "cell_type": "code",
   "execution_count": 45,
   "metadata": {},
   "outputs": [
    {
     "output_type": "execute_result",
     "data": {
      "text/plain": [
       "'https://www.nature.com/articles/s41586-021-03359-9'"
      ]
     },
     "metadata": {},
     "execution_count": 45
    }
   ],
   "source": [
    "get_url(soup, pdflink_filter, web_url)"
   ]
  },
  {
   "cell_type": "code",
   "execution_count": 46,
   "metadata": {},
   "outputs": [],
   "source": [
    "url = urlparse(web_url)"
   ]
  },
  {
   "cell_type": "code",
   "execution_count": 47,
   "metadata": {},
   "outputs": [
    {
     "output_type": "execute_result",
     "data": {
      "text/plain": [
       "ParseResult(scheme='https', netloc='www.nature.com', path='/articles/s41586-021-03359-9', params='', query='', fragment='')"
      ]
     },
     "metadata": {},
     "execution_count": 47
    }
   ],
   "source": [
    "url"
   ]
  },
  {
   "cell_type": "code",
   "execution_count": 65,
   "metadata": {},
   "outputs": [
    {
     "output_type": "stream",
     "name": "stdout",
     "text": [
      "ParseResult(scheme='https', netloc='www.nature.com', path='hkah', params='', query='', fragment='')\nParseResult(scheme='https', netloc='www.nature.com', path='/articles/s41586-021-03359-9', params='', query='', fragment='')\n"
     ]
    }
   ],
   "source": [
    "print(url._replace(path = link.pop()))\n",
    "\n",
    "print(url)"
   ]
  },
  {
   "cell_type": "code",
   "execution_count": 64,
   "metadata": {},
   "outputs": [],
   "source": [
    "link ={\"hkah\"}"
   ]
  },
  {
   "cell_type": "code",
   "execution_count": 55,
   "metadata": {},
   "outputs": [
    {
     "output_type": "stream",
     "name": "stdout",
     "text": [
      "{2, 3}\n"
     ]
    },
    {
     "output_type": "execute_result",
     "data": {
      "text/plain": [
       "1"
      ]
     },
     "metadata": {},
     "execution_count": 55
    }
   ],
   "source": [
    "x = uu.pop()\n",
    "print(uu)\n",
    "x"
   ]
  },
  {
   "cell_type": "code",
   "execution_count": 51,
   "metadata": {},
   "outputs": [
    {
     "output_type": "execute_result",
     "data": {
      "text/plain": [
       "1"
      ]
     },
     "metadata": {},
     "execution_count": 51
    }
   ],
   "source": [
    "x"
   ]
  },
  {
   "cell_type": "code",
   "execution_count": null,
   "metadata": {},
   "outputs": [],
   "source": []
  }
 ]
}